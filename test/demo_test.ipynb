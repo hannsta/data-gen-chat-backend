{
  "cells": [
    {
      "cell_type": "code",
      "execution_count": null,
      "metadata": {},
      "outputs": [
        {
          "name": "stdout",
          "output_type": "stream",
          "text": [
            "🧪 STEP 1: Quick validation...\n",
            "✅ Loaded workflow: signature_aviation_service_booking\n",
            "   • Description: Simulates typical user behavior for Signature Aviation's private aviation booking platform, focusing on the multi-airport comparison path.\n",
            "   • Paths: 1\n",
            "🚀 Calling execute_workflow endpoint...\n",
            "   • Workflow: signature_aviation_service_booking\n",
            "   • App URL: https://pendo-aviation-showcase.lovable.app/\n",
            "   • Users: 100 (batch: 25)\n",
            "   • Test mode: True\n",
            "   • Mode: Stateless (no database)\n",
            "🧪 Test completed in 9.28s\n",
            "❌ TEST FAILED - Backend error: Page.wait_for_timeout: Target page, context or browser has been closed\n"
          ]
        }
      ],
      "source": [
        "# Test the new test_mode validation feature\n",
        "from dynamic_workflow_demo import sync_run_workflow\n",
        "\n",
        "# First run with test_mode=True for quick validation\n",
        "print(\"🧪 STEP 1: Quick validation...\")\n",
        "result = sync_run_workflow(\n",
        "    workflow_file=\"../workflows/test.json\",\n",
        "    app_url=\"https://pendo-aviation-showcase.lovable.app\",\n",
        "    user_count=100,\n",
        "    batch_size=25,\n",
        "    test_mode=True  # This is the new flag!\n",
        ")"
      ]
    }
  ],
  "metadata": {
    "kernelspec": {
      "display_name": ".venv",
      "language": "python",
      "name": "python3"
    },
    "language_info": {
      "codemirror_mode": {
        "name": "ipython",
        "version": 3
      },
      "file_extension": ".py",
      "mimetype": "text/x-python",
      "name": "python",
      "nbconvert_exporter": "python",
      "pygments_lexer": "ipython3",
      "version": "3.13.5"
    }
  },
  "nbformat": 4,
  "nbformat_minor": 2
}
