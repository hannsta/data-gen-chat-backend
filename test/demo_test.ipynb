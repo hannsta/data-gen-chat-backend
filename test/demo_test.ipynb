{
  "cells": [
    {
      "cell_type": "code",
      "execution_count": 1,
      "metadata": {},
      "outputs": [
        {
          "name": "stdout",
          "output_type": "stream",
          "text": [
            "🧪 STEP 1: Quick validation...\n",
            "⚠️  Warning: Path percentages sum to 99.0% (should be 100%)\n",
            "✅ Loaded workflow: teacher_platform_user_journeys\n",
            "   • Description: Simulated usage of classroom management platform across key workflows with realistic delays and depth\n",
            "   • Paths: 10\n",
            "🚀 Calling execute_workflow endpoint...\n",
            "   • Workflow: teacher_platform_user_journeys\n",
            "   • App URL: https://teach-track-bloom.lovable.app/\n",
            "   • Users: 100 (batch: 25)\n",
            "   • Test mode: True\n",
            "   • Mode: Stateless (no database)\n",
            "🧪 Test completed in 25.38s\n",
            "❌ TEST FAILED - 1 failed actions found:\n",
            "  📍 complete_roster_management: 1 failures\n",
            "    Step 5 (click): text='User'\n",
            "    Error: Page.wait_for_selector: Timeout 300ms exceeded.\n"
          ]
        }
      ],
      "source": [
        "# Test the new test_mode validation feature\n",
        "from dynamic_workflow_demo import sync_run_workflow\n",
        "\n",
        "# First run with test_mode=True for quick validation\n",
        "print(\"🧪 STEP 1: Quick validation...\")\n",
        "result = sync_run_workflow(\n",
        "    workflow_file=\"workflows/ed_tech.json\",\n",
        "    app_url=\"https://teach-track-bloom.lovable.app/\",\n",
        "    user_count=100,\n",
        "    batch_size=25,\n",
        "    test_mode=True  # This is the new flag!\n",
        ")"
      ]
    }
  ],
  "metadata": {
    "kernelspec": {
      "display_name": ".venv",
      "language": "python",
      "name": "python3"
    },
    "language_info": {
      "codemirror_mode": {
        "name": "ipython",
        "version": 3
      },
      "file_extension": ".py",
      "mimetype": "text/x-python",
      "name": "python",
      "nbconvert_exporter": "python",
      "pygments_lexer": "ipython3",
      "version": "3.13.5"
    }
  },
  "nbformat": 4,
  "nbformat_minor": 2
}
